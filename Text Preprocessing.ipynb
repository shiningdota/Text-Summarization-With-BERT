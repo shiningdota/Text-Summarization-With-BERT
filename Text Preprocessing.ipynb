{
 "cells": [
  {
   "cell_type": "markdown",
   "metadata": {},
   "source": [
    "# Data Preprocessing"
   ]
  },
  {
   "cell_type": "markdown",
   "metadata": {},
   "source": [
    "## Load Data and Remove Some Column"
   ]
  },
  {
   "cell_type": "markdown",
   "metadata": {},
   "source": [
    "### Load Data"
   ]
  },
  {
   "cell_type": "code",
   "execution_count": 1,
   "metadata": {},
   "outputs": [],
   "source": [
    "import pandas as pd\n",
    "import re\n",
    "\n",
    "data_train = pd.read_csv('F:\\AI Portfolio Project\\Project 2-new\\datasets\\data_train.csv')\n",
    "data_test = pd.read_csv('F:\\AI Portfolio Project\\Project 2-new\\datasets\\data_test.csv')\n",
    "data_dev = pd.read_csv('F:\\AI Portfolio Project\\Project 2-new\\datasets\\data_dev.csv')"
   ]
  },
  {
   "cell_type": "markdown",
   "metadata": {},
   "source": [
    "### Remove Column into \"combined_clean_article\" and \"combined_clean_article only\" for all datasets"
   ]
  },
  {
   "cell_type": "code",
   "execution_count": 2,
   "metadata": {},
   "outputs": [],
   "source": [
    "data_train.drop(columns=['clean_article', 'clean_summary', 'id', 'url', 'extractive_summary'], inplace=True)\n",
    "data_test.drop(columns=['clean_article', 'clean_summary', 'id', 'url', 'extractive_summary'], inplace=True)\n",
    "data_dev.drop(columns=['clean_article', 'clean_summary', 'id', 'url', 'extractive_summary'], inplace=True)"
   ]
  },
  {
   "cell_type": "code",
   "execution_count": 3,
   "metadata": {},
   "outputs": [
    {
     "data": {
      "text/html": [
       "<div>\n",
       "<style scoped>\n",
       "    .dataframe tbody tr th:only-of-type {\n",
       "        vertical-align: middle;\n",
       "    }\n",
       "\n",
       "    .dataframe tbody tr th {\n",
       "        vertical-align: top;\n",
       "    }\n",
       "\n",
       "    .dataframe thead th {\n",
       "        text-align: right;\n",
       "    }\n",
       "</style>\n",
       "<table border=\"1\" class=\"dataframe\">\n",
       "  <thead>\n",
       "    <tr style=\"text-align: right;\">\n",
       "      <th></th>\n",
       "      <th>combined_clean_article</th>\n",
       "      <th>combined_clean_summary</th>\n",
       "    </tr>\n",
       "  </thead>\n",
       "  <tbody>\n",
       "    <tr>\n",
       "      <th>0</th>\n",
       "      <td>Liputan6. com, Jakarta: Wakil Presiden Megawat...</td>\n",
       "      <td>Megawati Sukarnoputri pasti akan menjadi presi...</td>\n",
       "    </tr>\n",
       "    <tr>\n",
       "      <th>1</th>\n",
       "      <td>Liputan6. com, Jakarta: Pemerintah sebaiknya m...</td>\n",
       "      <td>Pemerintah harus memberikan alasan hukum menga...</td>\n",
       "    </tr>\n",
       "    <tr>\n",
       "      <th>2</th>\n",
       "      <td>Liputan6. com, Semarang: Kepala Kepolisian Dae...</td>\n",
       "      <td>Sehari setelah pelantikan Megawati Sukarnoputr...</td>\n",
       "    </tr>\n",
       "    <tr>\n",
       "      <th>3</th>\n",
       "      <td>Liputan6. com, Bali: Wakil Presiden Megawati S...</td>\n",
       "      <td>Pesta kesenian Bali ke-23 dibuka Wapres Megawa...</td>\n",
       "    </tr>\n",
       "    <tr>\n",
       "      <th>4</th>\n",
       "      <td>Liputan6. com, Jakarta: Ribuan pemudik tujuan ...</td>\n",
       "      <td>Ribuan pemudik tujuan ke beberapa kota di Pula...</td>\n",
       "    </tr>\n",
       "  </tbody>\n",
       "</table>\n",
       "</div>"
      ],
      "text/plain": [
       "                              combined_clean_article  \\\n",
       "0  Liputan6. com, Jakarta: Wakil Presiden Megawat...   \n",
       "1  Liputan6. com, Jakarta: Pemerintah sebaiknya m...   \n",
       "2  Liputan6. com, Semarang: Kepala Kepolisian Dae...   \n",
       "3  Liputan6. com, Bali: Wakil Presiden Megawati S...   \n",
       "4  Liputan6. com, Jakarta: Ribuan pemudik tujuan ...   \n",
       "\n",
       "                              combined_clean_summary  \n",
       "0  Megawati Sukarnoputri pasti akan menjadi presi...  \n",
       "1  Pemerintah harus memberikan alasan hukum menga...  \n",
       "2  Sehari setelah pelantikan Megawati Sukarnoputr...  \n",
       "3  Pesta kesenian Bali ke-23 dibuka Wapres Megawa...  \n",
       "4  Ribuan pemudik tujuan ke beberapa kota di Pula...  "
      ]
     },
     "execution_count": 3,
     "metadata": {},
     "output_type": "execute_result"
    }
   ],
   "source": [
    "#test\n",
    "data_test.head()"
   ]
  },
  {
   "cell_type": "markdown",
   "metadata": {},
   "source": [
    "## Text Cleaning"
   ]
  },
  {
   "cell_type": "markdown",
   "metadata": {},
   "source": [
    "Clean unnecessary text, like \"liputan6\", \".com\", and many more"
   ]
  },
  {
   "cell_type": "code",
   "execution_count": 4,
   "metadata": {},
   "outputs": [],
   "source": [
    "\n",
    "def text_cleaning(text):\n",
    "    text = re.sub(r'Liputan6\\. com, [A-Za-z\\s]+:', '', text)\n",
    "    text = re.sub(r'\\w+\\s*\\(\\d{1,2}/\\d{1,2}\\)', '', text)\n",
    "    text = re.sub(r'\\([A-Z]+/[A-Za-z\\s]+(?: dan [A-Za-z\\s]+)?\\)\\.', '', text)\n",
    "    text = re.sub(r'\\[baca: .*?\\]', '', text)\n",
    "    return text.strip()"
   ]
  },
  {
   "cell_type": "markdown",
   "metadata": {},
   "source": [
    "Applying to the datasets"
   ]
  },
  {
   "cell_type": "code",
   "execution_count": 5,
   "metadata": {},
   "outputs": [],
   "source": [
    "#for artice\n",
    "data_train['clean_article'] = data_train['combined_clean_article'].apply(text_cleaning)\n",
    "data_dev['clean_article'] = data_dev['combined_clean_article'].apply(text_cleaning)\n",
    "data_test['clean_article'] = data_test['combined_clean_article'].apply(text_cleaning)"
   ]
  },
  {
   "cell_type": "code",
   "execution_count": 6,
   "metadata": {},
   "outputs": [],
   "source": [
    "#for summary\n",
    "data_train['clean_summary'] = data_train['combined_clean_summary'].apply(text_cleaning)\n",
    "data_dev['clean_summary'] = data_dev['combined_clean_summary'].apply(text_cleaning)\n",
    "data_test['clean_summary'] = data_test['combined_clean_summary'].apply(text_cleaning)"
   ]
  },
  {
   "cell_type": "markdown",
   "metadata": {},
   "source": [
    "Set the data into \"ready_data_x\" and check one of the table"
   ]
  },
  {
   "cell_type": "code",
   "execution_count": 7,
   "metadata": {},
   "outputs": [],
   "source": [
    "ready_data_train = data_train[['clean_article','clean_summary']]\n",
    "ready_data_dev = data_dev[['clean_article','clean_summary']]\n",
    "ready_data_test = data_test[['clean_article','clean_summary']]"
   ]
  },
  {
   "cell_type": "code",
   "execution_count": 8,
   "metadata": {},
   "outputs": [
    {
     "data": {
      "text/html": [
       "<div>\n",
       "<style scoped>\n",
       "    .dataframe tbody tr th:only-of-type {\n",
       "        vertical-align: middle;\n",
       "    }\n",
       "\n",
       "    .dataframe tbody tr th {\n",
       "        vertical-align: top;\n",
       "    }\n",
       "\n",
       "    .dataframe thead th {\n",
       "        text-align: right;\n",
       "    }\n",
       "</style>\n",
       "<table border=\"1\" class=\"dataframe\">\n",
       "  <thead>\n",
       "    <tr style=\"text-align: right;\">\n",
       "      <th></th>\n",
       "      <th>clean_article</th>\n",
       "      <th>clean_summary</th>\n",
       "    </tr>\n",
       "  </thead>\n",
       "  <tbody>\n",
       "    <tr>\n",
       "      <th>0</th>\n",
       "      <td>Hingga kini kerusakan fuel pump atau pompa bah...</td>\n",
       "      <td>Meski belum ada hasil resmi analisa penyebab k...</td>\n",
       "    </tr>\n",
       "    <tr>\n",
       "      <th>1</th>\n",
       "      <td>Freddy Santoso, pelaku penyuapan terhadap angg...</td>\n",
       "      <td>Freddy Santoso, pelaku penyuapan terhadap Iraw...</td>\n",
       "    </tr>\n",
       "    <tr>\n",
       "      <th>2</th>\n",
       "      <td>Fotografi mode kini semakin berkembang. Buktin...</td>\n",
       "      <td>Fotografi mode terus berkembang dengan lebih m...</td>\n",
       "    </tr>\n",
       "    <tr>\n",
       "      <th>3</th>\n",
       "      <td>Pro kontra tari jaipong terus bergulir. Sejuml...</td>\n",
       "      <td>Seniman Subang menyerukan memboikot PKS dan me...</td>\n",
       "    </tr>\n",
       "    <tr>\n",
       "      <th>4</th>\n",
       "      <td>Pemda Jakarta menggelar Operasi Yustisi Kepend...</td>\n",
       "      <td>Suku Dinas Kependudukan DKI Jakarta menggelar ...</td>\n",
       "    </tr>\n",
       "  </tbody>\n",
       "</table>\n",
       "</div>"
      ],
      "text/plain": [
       "                                       clean_article  \\\n",
       "0  Hingga kini kerusakan fuel pump atau pompa bah...   \n",
       "1  Freddy Santoso, pelaku penyuapan terhadap angg...   \n",
       "2  Fotografi mode kini semakin berkembang. Buktin...   \n",
       "3  Pro kontra tari jaipong terus bergulir. Sejuml...   \n",
       "4  Pemda Jakarta menggelar Operasi Yustisi Kepend...   \n",
       "\n",
       "                                       clean_summary  \n",
       "0  Meski belum ada hasil resmi analisa penyebab k...  \n",
       "1  Freddy Santoso, pelaku penyuapan terhadap Iraw...  \n",
       "2  Fotografi mode terus berkembang dengan lebih m...  \n",
       "3  Seniman Subang menyerukan memboikot PKS dan me...  \n",
       "4  Suku Dinas Kependudukan DKI Jakarta menggelar ...  "
      ]
     },
     "execution_count": 8,
     "metadata": {},
     "output_type": "execute_result"
    }
   ],
   "source": [
    "ready_data_train.head()"
   ]
  },
  {
   "cell_type": "markdown",
   "metadata": {},
   "source": [
    "## Convert to CSV"
   ]
  },
  {
   "cell_type": "code",
   "execution_count": 10,
   "metadata": {},
   "outputs": [],
   "source": [
    "ready_data_train.to_csv('F:\\\\AI Portfolio Project\\\\Project 2-new\\\\datasets\\\\ready_data_train.csv', index=False)\n",
    "ready_data_dev.to_csv('F:\\\\AI Portfolio Project\\\\Project 2-new\\\\datasets\\\\ready_data_dev.csv', index=False)\n",
    "ready_data_test.to_csv('F:\\\\AI Portfolio Project\\\\Project 2-new\\\\datasets\\\\ready_data_test.csv', index=False)"
   ]
  }
 ],
 "metadata": {
  "kernelspec": {
   "display_name": "Python 3",
   "language": "python",
   "name": "python3"
  },
  "language_info": {
   "codemirror_mode": {
    "name": "ipython",
    "version": 3
   },
   "file_extension": ".py",
   "mimetype": "text/x-python",
   "name": "python",
   "nbconvert_exporter": "python",
   "pygments_lexer": "ipython3",
   "version": "3.10.6"
  }
 },
 "nbformat": 4,
 "nbformat_minor": 2
}
